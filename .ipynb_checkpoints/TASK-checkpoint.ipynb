{
 "cells": [
  {
   "cell_type": "code",
   "execution_count": 63,
   "id": "38a8c95e-52f5-44be-ac16-7f2f5147b56e",
   "metadata": {},
   "outputs": [],
   "source": [
    "# Importing necessary libraries\n",
    "import pandas as pd\n",
    "import numpy as np\n",
    "import matplotlib.pyplot as plt\n",
    "import seaborn as sns"
   ]
  },
  {
   "cell_type": "code",
   "execution_count": 42,
   "id": "53b7a292-9b6f-4692-8783-67bc68c24e04",
   "metadata": {},
   "outputs": [],
   "source": [
    "# Set visual style\n",
    "sns.set(style=\"whitegrid\")"
   ]
  },
  {
   "cell_type": "raw",
   "id": "cc787aa4-fcfd-4b2f-b4db-b764068ac2d0",
   "metadata": {},
   "source": [
    "\n",
    "DATA LOADING\n"
   ]
  },
  {
   "cell_type": "code",
   "execution_count": 64,
   "id": "f7f9f405-660e-4d36-8190-13efa269d45c",
   "metadata": {},
   "outputs": [],
   "source": [
    "trader_df = pd.read_csv('Historical_data.csv')  \n",
    "sentiment_df = pd.read_csv('fear_greed_index.csv')  "
   ]
  },
  {
   "cell_type": "code",
   "execution_count": 44,
   "id": "9f5f2da0-cb9e-4bc6-8db4-2205b0bbc441",
   "metadata": {},
   "outputs": [
    {
     "name": "stdout",
     "output_type": "stream",
     "text": [
      "trader data:\n",
      "                                      Account  Coin  Execution Price  \\\n",
      "0  0xae5eacaf9c6b9111fd53034a602c192a04e082ed  @107           7.9769   \n",
      "1  0xae5eacaf9c6b9111fd53034a602c192a04e082ed  @107           7.9800   \n",
      "2  0xae5eacaf9c6b9111fd53034a602c192a04e082ed  @107           7.9855   \n",
      "3  0xae5eacaf9c6b9111fd53034a602c192a04e082ed  @107           7.9874   \n",
      "4  0xae5eacaf9c6b9111fd53034a602c192a04e082ed  @107           7.9894   \n",
      "\n",
      "   Size Tokens  Size USD Side     Timestamp IST  Start Position Direction  \\\n",
      "0       986.87   7872.16  BUY  02-12-2024 22:50        0.000000       Buy   \n",
      "1        16.00    127.68  BUY  02-12-2024 22:50      986.524596       Buy   \n",
      "2       144.09   1150.63  BUY  02-12-2024 22:50     1002.518996       Buy   \n",
      "3       142.98   1142.04  BUY  02-12-2024 22:50     1146.558564       Buy   \n",
      "4         8.73     69.75  BUY  02-12-2024 22:50     1289.488521       Buy   \n",
      "\n",
      "   Closed PnL                                   Transaction Hash     Order ID  \\\n",
      "0         0.0  0xec09451986a1874e3a980418412fcd0201f500c95bac...  52017706630   \n",
      "1         0.0  0xec09451986a1874e3a980418412fcd0201f500c95bac...  52017706630   \n",
      "2         0.0  0xec09451986a1874e3a980418412fcd0201f500c95bac...  52017706630   \n",
      "3         0.0  0xec09451986a1874e3a980418412fcd0201f500c95bac...  52017706630   \n",
      "4         0.0  0xec09451986a1874e3a980418412fcd0201f500c95bac...  52017706630   \n",
      "\n",
      "   Crossed       Fee      Trade ID     Timestamp  \n",
      "0     True  0.345404  8.950000e+14  1.730000e+12  \n",
      "1     True  0.005600  4.430000e+14  1.730000e+12  \n",
      "2     True  0.050431  6.600000e+14  1.730000e+12  \n",
      "3     True  0.050043  1.080000e+15  1.730000e+12  \n",
      "4     True  0.003055  1.050000e+15  1.730000e+12  \n"
     ]
    }
   ],
   "source": [
    "print('trader data:')\n",
    "print (trader_df.head())"
   ]
  },
  {
   "cell_type": "code",
   "execution_count": 45,
   "id": "7b4da4a2-a883-4f10-957d-27e206ecbd2a",
   "metadata": {},
   "outputs": [
    {
     "name": "stdout",
     "output_type": "stream",
     "text": [
      "setiment data:\n",
      "    timestamp  value classification        date\n",
      "0  1517463000     30           Fear  2018-02-01\n",
      "1  1517549400     15   Extreme Fear  2018-02-02\n",
      "2  1517635800     40           Fear  2018-02-03\n",
      "3  1517722200     24   Extreme Fear  2018-02-04\n",
      "4  1517808600     11   Extreme Fear  2018-02-05\n"
     ]
    }
   ],
   "source": [
    "print ('setiment data:')\n",
    "print (sentiment_df.head())"
   ]
  },
  {
   "cell_type": "raw",
   "id": "f1ae5082-49a5-44b1-9b7e-6ff124484a1a",
   "metadata": {},
   "source": [
    "\n",
    "DATA PREPROCESSING\n"
   ]
  },
  {
   "cell_type": "code",
   "execution_count": 65,
   "id": "bfac5925-bb79-4f94-8e76-df493fef44a4",
   "metadata": {},
   "outputs": [
    {
     "name": "stdout",
     "output_type": "stream",
     "text": [
      "Common dates found: 0\n",
      "No common dates found. Please verify your date ranges and formats.\n"
     ]
    }
   ],
   "source": [
    "# Converting to datetime and normalize\n",
    "trader_df['Timestamp'] = pd.to_datetime(trader_df['Timestamp'])\n",
    "trader_df['date'] = trader_df['Timestamp'].dt.normalize()\n",
    "\n",
    "sentiment_df['date'] = pd.to_datetime(sentiment_df['date'])\n",
    "sentiment_df['date'] = sentiment_df['date'].dt.normalize()\n",
    "\n",
    "# Check for common dates\n",
    "common_dates = set(trader_df['date']).intersection(set(sentiment_df['date']))\n",
    "print(f\"Common dates found: {len(common_dates)}\")\n",
    "\n",
    "# Merge only if common dates exist\n",
    "if len(common_dates) > 0:\n",
    "    merged_df = pd.merge(trader_df, sentiment_df, on='date', how='inner')\n",
    "    print(f\"Merged dataset size: {merged_df.shape}\")\n",
    "else:\n",
    "    print(\"No common dates found. Please verify your date ranges and formats.\")\n"
   ]
  },
  {
   "cell_type": "code",
   "execution_count": 66,
   "id": "55dd17d5-bad6-4d26-b9aa-e4c798e4594c",
   "metadata": {},
   "outputs": [],
   "source": [
    "# Converting timestamp columns to datetime\n",
    "trader_df['Timestamp'] = pd.to_datetime(trader_df['Timestamp'])\n",
    "trader_df['date'] = trader_df['Timestamp'].dt.normalize()\n",
    "sentiment_df['date'] = pd.to_datetime(sentiment_df['date'])\n",
    "sentiment_df['date'] = sentiment_df['date'].dt.normalize()"
   ]
  },
  {
   "cell_type": "code",
   "execution_count": 67,
   "id": "93032796-54be-461c-996e-5be2daa32905",
   "metadata": {},
   "outputs": [],
   "source": [
    "# Sorting both datasets for asof merge\n",
    "trader_df = trader_df.sort_values('date')\n",
    "sentiment_df = sentiment_df.sort_values('date')"
   ]
  },
  {
   "cell_type": "code",
   "execution_count": 68,
   "id": "4c9c433d-cfd3-4acf-a6ee-dce83f2e0b19",
   "metadata": {
    "scrolled": true
   },
   "outputs": [
    {
     "name": "stdout",
     "output_type": "stream",
     "text": [
      "\n",
      "✅ Merged Dataset Size: (211224, 20)\n",
      "                                      Account      Coin  Execution Price  \\\n",
      "0  0xae5eacaf9c6b9111fd53034a602c192a04e082ed      @107          7.97690   \n",
      "1  0x28736f43f1e871e6aa8b1148d38d4994275d72c4       ENA          0.39656   \n",
      "2  0x28736f43f1e871e6aa8b1148d38d4994275d72c4       ENA          0.39293   \n",
      "3  0x28736f43f1e871e6aa8b1148d38d4994275d72c4       ETH       2086.10000   \n",
      "4  0x28736f43f1e871e6aa8b1148d38d4994275d72c4  FARTCOIN          0.54572   \n",
      "\n",
      "   Size Tokens  Size USD  Side     Timestamp IST  Start Position   Direction  \\\n",
      "0       986.87   7872.16   BUY  02-12-2024 22:50             0.0         Buy   \n",
      "1        90.00     35.69  SELL  24-03-2025 11:02          2092.0  Close Long   \n",
      "2       450.00    176.82  SELL  24-03-2025 14:19          2002.0  Close Long   \n",
      "3         0.50   1043.05  SELL  24-03-2025 14:19             6.0  Close Long   \n",
      "4        20.10     10.97  SELL  24-03-2025 14:52          -446.6  Open Short   \n",
      "\n",
      "   Closed PnL                                   Transaction Hash     Order ID  \\\n",
      "0     0.00000  0xec09451986a1874e3a980418412fcd0201f500c95bac...  52017706630   \n",
      "1     3.58245  0x77d5b83ef6bb4e777cb80420289d05013900bc331dae...  81483802389   \n",
      "2    16.27875  0xdd70654603dfee86ed7f04202adaf702028800af7bb1...  81506802816   \n",
      "3    21.57500  0x535d8db52c457198618504202adb880185007b644b62...  81506830005   \n",
      "4     0.00000  0xc2e2c965b8af7b00b97104202b3b4c019c00e719f96d...  81510478991   \n",
      "\n",
      "   Crossed       Fee      Trade ID           Timestamp       date  timestamp  \\\n",
      "0     True  0.345404  8.950000e+14 1970-01-01 00:28:50 1970-01-01        NaN   \n",
      "1     True  0.012491  7.460000e+14 1970-01-01 00:29:00 1970-01-01        NaN   \n",
      "2     True  0.061886  3.320000e+14 1970-01-01 00:29:00 1970-01-01        NaN   \n",
      "3     True  0.365067  3.750000e+14 1970-01-01 00:29:00 1970-01-01        NaN   \n",
      "4     True  0.003839  7.890000e+14 1970-01-01 00:29:00 1970-01-01        NaN   \n",
      "\n",
      "   value classification  \n",
      "0    NaN            NaN  \n",
      "1    NaN            NaN  \n",
      "2    NaN            NaN  \n",
      "3    NaN            NaN  \n",
      "4    NaN            NaN  \n"
     ]
    }
   ],
   "source": [
    "#Merging with Nearest Previous Sentiment Date\n",
    "merged_df = pd.merge_asof(trader_df, sentiment_df, on='date', direction='backward')\n",
    "\n",
    "print(f\"\\n✅ Merged Dataset Size: {merged_df.shape}\")\n",
    "print(merged_df.head())"
   ]
  },
  {
   "cell_type": "raw",
   "id": "d016dcd8-c7a3-48af-9349-d82d9807d437",
   "metadata": {},
   "source": [
    "\n",
    "FEATURE ENGINEERING\n"
   ]
  },
  {
   "cell_type": "code",
   "execution_count": 69,
   "id": "37b3a098-a192-40d0-8cb2-2273ad3bd0e4",
   "metadata": {},
   "outputs": [],
   "source": [
    "# Adding win/loss flag\n",
    "merged_df['win'] = merged_df['Closed PnL'] > 0"
   ]
  },
  {
   "cell_type": "code",
   "execution_count": 70,
   "id": "c7f861b6-7613-4c9e-b806-f7690dcc7838",
   "metadata": {},
   "outputs": [],
   "source": [
    "# Cleaning sentiment labels\n",
    "merged_df['classification'] = merged_df['classification'].str.strip().str.capitalize()"
   ]
  },
  {
   "cell_type": "code",
   "execution_count": 71,
   "id": "136603ee-b740-48c7-a8ea-dea7ee1fbc92",
   "metadata": {},
   "outputs": [],
   "source": [
    "# Grouping by sentiment and calculate performance metrics\n",
    "performance_summary = merged_df.groupby('classification').agg({\n",
    "    'Closed PnL': ['mean', 'median', 'sum'],\n",
    "    'Size USD': 'mean',\n",
    "    'win': 'mean',\n",
    "    'Fee': 'mean'\n",
    "}).reset_index()\n"
   ]
  },
  {
   "cell_type": "code",
   "execution_count": 53,
   "id": "07ade358-bc46-4b19-aa55-fbdffd18ebfa",
   "metadata": {},
   "outputs": [
    {
     "name": "stdout",
     "output_type": "stream",
     "text": [
      "\n",
      "📊 Performance Summary by Sentiment:\n",
      "Empty DataFrame\n",
      "Columns: [Sentiment, AvgPnL, MedianPnL, TotalPnL, AvgSizeUSD, WinRate, AvgFee]\n",
      "Index: []\n"
     ]
    }
   ],
   "source": [
    "# Rename columns for easier reference\n",
    "performance_summary.columns = ['Sentiment', 'AvgPnL', 'MedianPnL', 'TotalPnL', 'AvgSizeUSD', 'WinRate', 'AvgFee']\n",
    "\n",
    "print(\"\\n📊 Performance Summary by Sentiment:\")\n",
    "print(performance_summary)"
   ]
  },
  {
   "cell_type": "raw",
   "id": "9bbbf8f0-10a4-4adf-bab4-202f0902bd7a",
   "metadata": {},
   "source": [
    "\n",
    "VISUALIZATION\n"
   ]
  },
  {
   "cell_type": "code",
   "execution_count": 54,
   "id": "78e7dd97-490c-4661-80af-7bb8b6fc72c4",
   "metadata": {},
   "outputs": [
    {
     "name": "stdout",
     "output_type": "stream",
     "text": [
      "classification\n",
      "NaN    211224\n",
      "Name: count, dtype: int64\n"
     ]
    }
   ],
   "source": [
    "print(merged_df['classification'].value_counts(dropna=False))\n"
   ]
  },
  {
   "cell_type": "code",
   "execution_count": 72,
   "id": "aa427b12-a6be-4ffd-a6a0-9e6e7bb7fa70",
   "metadata": {},
   "outputs": [],
   "source": [
    "# Droping rows where sentiment is missing\n",
    "plot_df = merged_df.dropna(subset=['classification'])\n"
   ]
  },
  {
   "cell_type": "code",
   "execution_count": 56,
   "id": "140441e2-686d-4a52-9d6d-3bd81ebce2d1",
   "metadata": {},
   "outputs": [
    {
     "data": {
      "image/png": "[encoded data removed]",
      "text/plain": [
       "<Figure size 1000x600 with 1 Axes>"
      ]
     },
     "metadata": {},
     "output_type": "display_data"
    }
   ],
   "source": [
    "# Boxplot: PnL by Sentiment\n",
    "plt.figure(figsize=(10,6))\n",
    "sns.boxplot(x='classification', y='Closed PnL', data=plot_df)\n",
    "plt.title('PnL Distribution by Market Sentiment')\n",
    "plt.ylabel('Closed PnL')\n",
    "plt.xlabel('Market Sentiment (Fear vs. Greed)')\n",
    "plt.show()\n"
   ]
  },
  {
   "cell_type": "code",
   "execution_count": 57,
   "id": "be177c31-30ab-4151-b56f-894f3a8d48e5",
   "metadata": {},
   "outputs": [
    {
     "name": "stdout",
     "output_type": "stream",
     "text": [
      "Series([], Name: count, dtype: int64)\n",
      "Not enough sentiment data available to plot.\n"
     ]
    }
   ],
   "source": [
    "# Cleaning missing sentiment rows\n",
    "plot_df = merged_df.dropna(subset=['classification'])\n",
    "\n",
    "# Checking sentiment distribution\n",
    "print(plot_df['classification'].value_counts())\n",
    "\n",
    "# Plot if data exists\n",
    "if plot_df['classification'].nunique() > 0:\n",
    "    plt.figure(figsize=(10,6))\n",
    "    sns.boxplot(x='classification', y='Closed PnL', data=plot_df)\n",
    "    plt.title('PnL Distribution by Market Sentiment')\n",
    "    plt.ylabel('Closed PnL')\n",
    "    plt.xlabel('Market Sentiment (Fear vs. Greed)')\n",
    "    plt.show()\n",
    "else:\n",
    "    print(\"Not enough sentiment data available to plot.\")\n"
   ]
  },
  {
   "cell_type": "code",
   "execution_count": 58,
   "id": "53014178-4972-436a-ad40-373a026c3f65",
   "metadata": {},
   "outputs": [
    {
     "data": {
      "image/png": "[encoded data removed]",
      "text/plain": [
       "<Figure size 800x600 with 1 Axes>"
      ]
     },
     "metadata": {},
     "output_type": "display_data"
    }
   ],
   "source": [
    "# Barplot: Average Fee by Sentiment\n",
    "plt.figure(figsize=(8,6))\n",
    "sns.barplot(x='classification', y='Fee', data=merged_df)\n",
    "plt.title('Average Fee by Market Sentiment')\n",
    "plt.ylabel('Average Fee')\n",
    "plt.xlabel('Market Sentiment')\n",
    "plt.show()"
   ]
  },
  {
   "cell_type": "code",
   "execution_count": 59,
   "id": "980e471f-2e1c-4684-86ac-57b8d421826c",
   "metadata": {},
   "outputs": [
    {
     "data": {
      "image/png": "[encoded data removed]",
      "text/plain": [
       "<Figure size 800x600 with 1 Axes>"
      ]
     },
     "metadata": {},
     "output_type": "display_data"
    }
   ],
   "source": [
    "# Barplot: Win Rate by Sentiment\n",
    "plt.figure(figsize=(8,6))\n",
    "sns.barplot(x='Sentiment', y='WinRate', data=performance_summary)\n",
    "plt.title('Win Rate by Market Sentiment')\n",
    "plt.ylabel('Win Rate')\n",
    "plt.xlabel('Market Sentiment')\n",
    "plt.show()"
   ]
  },
  {
   "cell_type": "code",
   "execution_count": 60,
   "id": "360660d6-5721-4cd3-bc72-ee1e6d0a2459",
   "metadata": {},
   "outputs": [
    {
     "name": "stderr",
     "output_type": "stream",
     "text": [
      "C:\\Users\\sumiti08\\AppData\\Local\\Temp\\ipykernel_17244\\3465317583.py:9: UserWarning: No artists with labels found to put in legend.  Note that artists whose label start with an underscore are ignored when legend() is called with no argument.\n",
      "  plt.legend(title='Market Sentiment')\n"
     ]
    },
    {
     "data": {
      "image/png": "[encoded data removed]",
      "text/plain": [
       "<Figure size 1400x600 with 1 Axes>"
      ]
     },
     "metadata": {},
     "output_type": "display_data"
    }
   ],
   "source": [
    " #Lineplot: Daily Total PnL by Sentiment\n",
    "daily_pnl = merged_df.groupby(['date', 'classification'])['Closed PnL'].sum().reset_index()\n",
    "\n",
    "plt.figure(figsize=(14,6))\n",
    "sns.lineplot(x='date', y='Closed PnL', hue='classification', data=daily_pnl)\n",
    "plt.title('Daily Total PnL by Market Sentiment')\n",
    "plt.ylabel('Daily Total PnL')\n",
    "plt.xlabel('Date')\n",
    "plt.legend(title='Market Sentiment')\n",
    "plt.show()"
   ]
  },
  {
   "cell_type": "code",
   "execution_count": 61,
   "id": "abeb2408-9556-4f66-ad77-cc32a50ffbf7",
   "metadata": {},
   "outputs": [
    {
     "name": "stdout",
     "output_type": "stream",
     "text": [
      "\n",
      "Key Insights:\n",
      "- Sentiment data is incomplete or labels do not match exactly as 'Greed' and 'Fear'. Please verify the sentiment column.\n",
      "- Win rates and trade sizes vary across market sentiment, indicating different trader behavior.\n",
      "- Fees also show sentiment-based variations, which could reflect differing strategies.\n"
     ]
    }
   ],
   "source": [
    "\n",
    "\n",
    "print(\"\\nKey Insights:\")\n",
    "\n",
    "# Ensure labels are properly formatted\n",
    "merged_df['classification'] = merged_df['classification'].str.strip().str.capitalize()\n",
    "\n",
    "# Refresh the performance summary\n",
    "performance_summary = merged_df.groupby('classification').agg({\n",
    "    'Closed PnL': ['mean', 'median', 'sum'],\n",
    "    'Size USD': 'mean',\n",
    "    'win': 'mean',\n",
    "    'Fee': 'mean'\n",
    "}).reset_index()\n",
    "\n",
    "performance_summary.columns = ['Sentiment', 'AvgPnL', 'MedianPnL', 'TotalPnL', 'AvgSizeUSD', 'WinRate', 'AvgFee']\n",
    "\n",
    "# Check if 'Greed' and 'Fear' exist\n",
    "sentiments = performance_summary['Sentiment'].tolist()\n",
    "\n",
    "if 'Greed' in sentiments and 'Fear' in sentiments:\n",
    "    greed_avg_pnl = performance_summary.loc[performance_summary['Sentiment'] == 'Greed', 'AvgPnL'].values[0]\n",
    "    fear_avg_pnl = performance_summary.loc[performance_summary['Sentiment'] == 'Fear', 'AvgPnL'].values[0]\n",
    "\n",
    "    if greed_avg_pnl > fear_avg_pnl:\n",
    "        print(\"- Traders tend to perform better on Greed days.\")\n",
    "    else:\n",
    "        print(\"- Traders tend to perform better on Fear days.\")\n",
    "else:\n",
    "    print(\"- Sentiment data is incomplete or labels do not match exactly as 'Greed' and 'Fear'. Please verify the sentiment column.\")\n",
    "\n",
    "print(\"- Win rates and trade sizes vary across market sentiment, indicating different trader behavior.\")\n",
    "print(\"- Fees also show sentiment-based variations, which could reflect differing strategies.\")\n"
   ]
  },
  {
   "cell_type": "code",
   "execution_count": 62,
   "id": "a30dfc73-f870-408c-a857-522b336ad3ac",
   "metadata": {},
   "outputs": [
    {
     "name": "stdout",
     "output_type": "stream",
     "text": [
      "\n",
      "🔍 Key Insights:\n",
      "- Some sentiment categories may be missing or underrepresented in the dataset.\n",
      "- Win rates and trade sizes vary across market sentiments, indicating different trader behaviors.\n",
      "- Fees also show sentiment-based variations, possibly reflecting differing strategies.\n"
     ]
    }
   ],
   "source": [
    "print(\"\\n🔍 Key Insights:\")\n",
    "\n",
    "# Check if both sentiments exist\n",
    "sentiments = performance_summary['Sentiment'].tolist()\n",
    "\n",
    "if 'Greed' in sentiments and 'Fear' in sentiments:\n",
    "    greed_avg_pnl = performance_summary.loc[performance_summary['Sentiment'] == 'Greed', 'AvgPnL'].values[0]\n",
    "    fear_avg_pnl = performance_summary.loc[performance_summary['Sentiment'] == 'Fear', 'AvgPnL'].values[0]\n",
    "\n",
    "    if greed_avg_pnl > fear_avg_pnl:\n",
    "        print(\"- Traders tend to perform better on Greed days.\")\n",
    "    else:\n",
    "        print(\"- Traders tend to perform better on Fear days.\")\n",
    "else:\n",
    "    print(\"- Some sentiment categories may be missing or underrepresented in the dataset.\")\n",
    "\n",
    "print(\"- Win rates and trade sizes vary across market sentiments, indicating different trader behaviors.\")\n",
    "print(\"- Fees also show sentiment-based variations, possibly reflecting differing strategies.\")"
   ]
  },
  {
   "cell_type": "code",
   "execution_count": null,
   "id": "117b651c-b207-47b2-8ed1-52f301d32a31",
   "metadata": {},
   "outputs": [],
   "source": []
  }
 ],
 "metadata": {
  "kernelspec": {
   "display_name": "Python 3 (ipykernel)",
   "language": "python",
   "name": "python3"
  },
  "language_info": {
   "codemirror_mode": {
    "name": "ipython",
    "version": 3
   },
   "file_extension": ".py",
   "mimetype": "text/x-python",
   "name": "python",
   "nbconvert_exporter": "python",
   "pygments_lexer": "ipython3",
   "version": "3.13.0"
  }
 },
 "nbformat": 4,
 "nbformat_minor": 5
}
